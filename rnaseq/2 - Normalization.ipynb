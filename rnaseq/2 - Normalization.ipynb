{
 "cells": [
  {
   "cell_type": "markdown",
   "metadata": {},
   "source": [
    "# Normalization with RUVg and ERCC spike-ins\n"
   ]
  },
  {
   "cell_type": "code",
   "execution_count": null,
   "metadata": {
    "collapsed": true
   },
   "outputs": [],
   "source": [
    "# Set up environment\n",
    "options(warn = -1)\n",
    "options(jupyter.plot_mimetypes = 'image/png')\n",
    "\n",
    "suppressPackageStartupMessages(require(dplyr))\n",
    "suppressPackageStartupMessages(require(ggplot2))\n",
    "suppressPackageStartupMessages(require(tidyr))\n",
    "\n",
    "suppressPackageStartupMessages(require(RUVSeq))\n",
    "suppressPackageStartupMessages(require(EDASeq))"
   ]
  },
  {
   "cell_type": "code",
   "execution_count": null,
   "metadata": {
    "collapsed": true
   },
   "outputs": [],
   "source": [
    "source('src/load_datasets.r')\n",
    "\n",
    "# Inspect the tables\n",
    "cat('Metadata:')\n",
    "head(meta, 10)"
   ]
  },
  {
   "cell_type": "markdown",
   "metadata": {},
   "source": [
    "In Part 1, we created a tpm table summarized by gene. Here we'll repeat that, but also create a counts matrix summarized by gene, for differential expression analysis."
   ]
  },
  {
   "cell_type": "code",
   "execution_count": null,
   "metadata": {
    "collapsed": true
   },
   "outputs": [],
   "source": [
    "# Stack matrix to tall table\n",
    "counts_tall <- counts_mat %>%\n",
    "    as.data.frame %>%\n",
    "    mutate(gencode_tx = rownames(counts_mat)) %>%\n",
    "    gather(Name, counts, starts_with('GS-'))\n",
    "\n",
    "# Summarize by gene\n",
    "gene_counts_tall <- counts_tall %>%\n",
    "    inner_join(annot, by='gencode_tx') %>%\n",
    "    group_by(hugo_symbol, Name) %>%\n",
    "    summarize(counts = sum(counts))\n",
    "\n",
    "# Pivot back to matrix\n",
    "gene_counts <- gene_counts_tall %>%\n",
    "    spread(Name, counts)\n",
    "rownames(gene_counts) <- gene_counts$hugo_symbol\n",
    "gene_counts$hugo_symbol <- NULL\n",
    "gene_counts <- as.matrix(gene_counts)\n",
    "\n",
    "cat('Tall table of transcript read counts (counts_tall):')\n",
    "head(counts_tall, 3)\n",
    "\n",
    "cat('Gene-level read counts matrix (gene_counts):')\n",
    "gene_counts[1:3, 1:3]\n",
    "\n",
    "cat('Matrix rows:')\n",
    "nrow(gene_counts)\n",
    "cat('Matrix columns:')\n",
    "ncol(gene_counts)"
   ]
  },
  {
   "cell_type": "markdown",
   "metadata": {},
   "source": [
    "## ERCC normalization effects"
   ]
  },
  {
   "cell_type": "code",
   "execution_count": null,
   "metadata": {
    "collapsed": true
   },
   "outputs": [],
   "source": [
    "get_spikes <- function(expr) {\n",
    "    genes <- rownames(expr)[grep(\"^ERCC\", rownames(expr), invert=TRUE)]\n",
    "    spikes <- rownames(expr)[grep(\"^ERCC\", rownames(expr))]\n",
    "    return(list(genes=genes, spikes=spikes))\n",
    "}                   \n",
    "\n",
    "# Add ercc spike-ins to the gene counts\n",
    "ercc <- counts_mat[get_spikes(counts_mat)$spikes,]\n",
    "\n",
    "# Realign columns\n",
    "ercc <- ercc[, colnames(gene_counts)]\n",
    "gene_counts <- rbind(gene_counts, ercc)\n",
    "\n",
    "cat('ERCC matrix:')\n",
    "ercc[1:3, 1:3]\n",
    "cat('Dimensions of new genes matrix:')\n",
    "dim(gene_counts)"
   ]
  },
  {
   "cell_type": "markdown",
   "metadata": {},
   "source": [
    "ERCC transcripts were quantified in the raw data and added to the bottom of the gene_counts matrix"
   ]
  },
  {
   "cell_type": "code",
   "execution_count": null,
   "metadata": {
    "collapsed": true,
    "scrolled": false
   },
   "outputs": [],
   "source": [
    "boxplot_by_treatment <- function(expr, title) {\n",
    "    options(repr.plot.width=4, repr.plot.height=3)\n",
    "    p <- expr %>%\n",
    "        as.data.frame %>%\n",
    "        gather('Name', 'counts') %>%\n",
    "        inner_join(meta, by='Name') %>%\n",
    "        filter(Concentration != 1) %>%\n",
    "        ggplot\n",
    "    p + geom_boxplot(aes(x = Timepoint, y=log10(counts), color=Treatment)) +\n",
    "        theme(axis.text.x = element_text(angle = 90, hjust = 1)) +\n",
    "        ggtitle(title)\n",
    "}\n",
    "\n",
    "boxplot_by_treatment(ercc, 'ERCC genes boxplots')\n",
    "boxplot_by_treatment(gene_counts, 'Raw gene counts boxplots')\n",
    "boxplot_by_treatment(sweep(gene_counts, 2, colSums(ercc), '/'), \n",
    "                     'Gene counts normalized by ERCC')"
   ]
  },
  {
   "cell_type": "markdown",
   "metadata": {},
   "source": [
    "## RUV normalization\n",
    "The RUV (remove unwanted variation) method uses a generalized linear model to find an appropriate normalization factor. This method allows us to quantify and remove any source of variation independent of the treatment conditions, including sample depth but also batch effects, sequencing lane, and unknown factors.\n",
    "\n",
    "Following the RUV vignette, first we filter for genes with at least 5 reads in at least 2 samples."
   ]
  },
  {
   "cell_type": "code",
   "execution_count": null,
   "metadata": {
    "collapsed": true
   },
   "outputs": [],
   "source": [
    "filter_genes <- function(expr, n_reads=5, n_samples=2) {\n",
    "    filter <- apply(expr, 1, function(x) length(x[x > n_reads]) >= n_samples)\n",
    "    return(expr[filter,])\n",
    "}\n",
    "\n",
    "calc_edger <- function(eset) {   \n",
    "    design <- model.matrix(~Treatment, data=pData(eset))\n",
    "    y <- DGEList(counts=counts(eset), group=meta$Treatment)\n",
    "    y <- calcNormFactors(y, method=\"upperquartile\")\n",
    "    y <- estimateGLMCommonDisp(y, design)\n",
    "    y <- estimateGLMTagwiseDisp(y, design)\n",
    "    fit <- glmFit(y, design) \n",
    "    lrt <- glmLRT(fit, coef=2)\n",
    "    top <- topTags(lrt, n=nrow(eset))$table\n",
    "    return(top)\n",
    "}\n",
    "                    \n",
    "run_ruvg <- function(expr) {\n",
    "    filtered <- filter_genes(expr, n_samples=28)\n",
    "    gene_types <- get_spikes(filtered)\n",
    "    eset <- EDASeq::newSeqExpressionSet(as.matrix(filtered), phenoData=meta)\n",
    "    ruv <- RUVSeq::RUVg(eset, gene_types$spikes, k=1)\n",
    "    return(ruv)\n",
    "}"
   ]
  },
  {
   "cell_type": "code",
   "execution_count": null,
   "metadata": {
    "collapsed": true
   },
   "outputs": [],
   "source": [
    "ruv <- run_ruvg(counts_mat)\n",
    "\n",
    "dim(counts_mat)\n",
    "dim(exprs(ruv))"
   ]
  },
  {
   "cell_type": "code",
   "execution_count": null,
   "metadata": {
    "collapsed": true
   },
   "outputs": [],
   "source": [
    "options(repr.plot.width=6, repr.plot.height=4)\n",
    "plotRLE(counts_mat)\n",
    "plotRLE(ruv)"
   ]
  },
  {
   "cell_type": "markdown",
   "metadata": {},
   "source": [
    "## PCA plots"
   ]
  },
  {
   "cell_type": "code",
   "execution_count": null,
   "metadata": {
    "collapsed": true
   },
   "outputs": [],
   "source": [
    "plot_pca <- function(mat, plot_pairs=F) {\n",
    "    options(repr.plot.width=6, repr.plot.height=4)\n",
    "\n",
    "    pca_mat <- t(log10(mat + 1))\n",
    "    \n",
    "    # PCA\n",
    "    pc_out <- prcomp(pca_mat)  \n",
    "    pc_coords <- as.data.frame( pca_mat %*% pc_out$rotation[,1:4])\n",
    "    pc_coords <- cbind(pc_coords, meta[rownames(pc_coords),])\n",
    " \n",
    "    if (plot_pairs) {\n",
    "        library(RColorBrewer)\n",
    "        treatment_colors <- brewer.pal(3, \"Set2\")\n",
    "        graphics::pairs(pc_coords[rownames(meta),1:4], col=treatment_colors[meta$Treatment], pch = as.integer(meta$Timepoint))\n",
    "    } else {\n",
    "        ggplot(pc_coords, aes(x=-PC1, y=PC2, color=Treatment, shape=Concentration, size=Timepoint)) + \n",
    "            geom_point(alpha=0.75)\n",
    "    }\n",
    "}"
   ]
  },
  {
   "cell_type": "code",
   "execution_count": null,
   "metadata": {
    "collapsed": true
   },
   "outputs": [],
   "source": [
    "n_samples <- ncol(counts_mat) - 1)  # num samples to consider for filtering threshold\n",
    "\n",
    "plot_pca(counts_mat)\n",
    "plot_pca(filter_genes(counts_mat, n_reads=5, n_samples=n_samples)\n",
    "plot_pca(gene_counts)\n",
    "plot_pca(filter_genes(gene_counts, n_reads=5, n_samples=n_samples))"
   ]
  },
  {
   "cell_type": "code",
   "execution_count": null,
   "metadata": {
    "collapsed": true
   },
   "outputs": [],
   "source": [
    "plot_pca(filter_genes(gene_counts, n_reads=5, n_samples=n_samples), plot_pairs=T)"
   ]
  },
  {
   "cell_type": "code",
   "execution_count": null,
   "metadata": {
    "collapsed": true
   },
   "outputs": [],
   "source": [
    "plot_density <- function(expr) {\n",
    "    # Plot density\n",
    "    options(repr.plot.width=6, repr.plot.height=5)\n",
    "\n",
    "    p <- expr %>% \n",
    "        as.data.frame %>%\n",
    "        gather('Name', 'counts') %>%\n",
    "        ggplot\n",
    "    p + geom_density(aes(x=counts, color=Name)) + scale_x_log10()\n",
    "}\n",
    "\n",
    "plot_density(counts_mat)\n",
    "plot_density(gene_counts)"
   ]
  },
  {
   "cell_type": "markdown",
   "metadata": {
    "collapsed": true
   },
   "source": [
    "## Use RUVg with unchanging genes\n",
    "If ERCC spike-ins are not available, or if they correlate with treatment, another gene set must be used for normalization. One alternative is to use all but the top 10,000 transcripts as the normalization factor."
   ]
  },
  {
   "cell_type": "code",
   "execution_count": null,
   "metadata": {
    "collapsed": true
   },
   "outputs": [],
   "source": [
    "gene_counts <- gene_counts[, meta$Name]\n",
    "filtered <- filter_genes(gene_counts, n_samples=28) # filter of 28 prevents zeros in one group\n",
    "set_filtered <- EDASeq::newSeqExpressionSet(as.matrix(filtered), phenoData=meta)"
   ]
  },
  {
   "cell_type": "code",
   "execution_count": null,
   "metadata": {
    "collapsed": true
   },
   "outputs": [],
   "source": [
    "# Take all but top 10,0000 differentially expressed genes\n",
    "top <- calc_edger(set_filtered)\n",
    "empirical <- rownames(set_filtered)[which(!(rownames(set_filtered) %in% rownames(top)[1:10000]))]\n",
    "plot(1:nrow(top),top$PValue)"
   ]
  },
  {
   "cell_type": "code",
   "execution_count": null,
   "metadata": {
    "collapsed": true
   },
   "outputs": [],
   "source": [
    "ruv <- RUVSeq::RUVg(set_filtered, empirical, k=1)"
   ]
  },
  {
   "cell_type": "code",
   "execution_count": null,
   "metadata": {
    "collapsed": true
   },
   "outputs": [],
   "source": [
    "save(ruv, file='data/ruv.rdata')"
   ]
  }
 ],
 "metadata": {
  "anaconda-cloud": {},
  "kernelspec": {
   "display_name": "R",
   "language": "R",
   "name": "ir"
  },
  "language_info": {
   "codemirror_mode": "r",
   "file_extension": ".r",
   "mimetype": "text/x-r-source",
   "name": "R",
   "pygments_lexer": "r",
   "version": "3.4.2"
  }
 },
 "nbformat": 4,
 "nbformat_minor": 1
}
