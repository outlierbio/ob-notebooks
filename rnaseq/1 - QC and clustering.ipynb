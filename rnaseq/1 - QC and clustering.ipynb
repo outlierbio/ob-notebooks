{
 "cells": [
  {
   "cell_type": "markdown",
   "metadata": {},
   "source": [
    "# RNA-seq analysis\n",
    "\n",
    "## Part 1: QC and clustering"
   ]
  },
  {
   "cell_type": "code",
   "execution_count": null,
   "metadata": {
    "collapsed": true
   },
   "outputs": [],
   "source": [
    "# Set up environment\n",
    "options(warn = -1)\n",
    "options(jupyter.plot_mimetypes = 'image/png')\n",
    "\n",
    "# Load packages\n",
    "suppressPackageStartupMessages(require(dplyr))\n",
    "suppressPackageStartupMessages(require(reshape2))\n",
    "suppressPackageStartupMessages(require(ggplot2))\n",
    "suppressPackageStartupMessages(require(tidyr))"
   ]
  },
  {
   "cell_type": "code",
   "execution_count": null,
   "metadata": {
    "collapsed": true
   },
   "outputs": [],
   "source": [
    "source('src/load_datasets.r')"
   ]
  },
  {
   "cell_type": "code",
   "execution_count": null,
   "metadata": {
    "collapsed": true
   },
   "outputs": [],
   "source": [
    "# Inspect the tables\n",
    "cat('TPM (tall table):')\n",
    "head(tpm_tall, 3)\n",
    "cat('Metadata:')\n",
    "head(meta, 10)\n",
    "cat('Annotations')\n",
    "head(annot, 3)"
   ]
  },
  {
   "cell_type": "markdown",
   "metadata": {},
   "source": [
    "# Summarize by gene\n",
    "Transcript-level quantification was performed in order to allow fine-grained exploration of differential transcript isoform usage (e.g., alternate splicing changes). However, for our initial analyses, we want to use the gene-level quantification, which is less sensitive to small changes in transcript levels of low-expressed transcripts. \n",
    "\n",
    "Converting the data only requires summing transcript TPM levels per gene."
   ]
  },
  {
   "cell_type": "code",
   "execution_count": null,
   "metadata": {
    "collapsed": true
   },
   "outputs": [],
   "source": [
    "tpm_gene <- tpm_tall %>%\n",
    "    inner_join(annot, by=c('target_id'='gencode_tx')) %>%\n",
    "    group_by(hugo_symbol, Name) %>%\n",
    "    summarize(tpm = sum(tpm, na.rm=T)) %>%\n",
    "    inner_join(meta)\n",
    "\n",
    "head(tpm_gene)"
   ]
  },
  {
   "cell_type": "markdown",
   "metadata": {},
   "source": [
    "## Check the highest-expressed genes \n",
    "A good sanity check is to manually explore the highest expressed genes. We'll sort by the average expression of each transcript over all samples, and then print the top 20."
   ]
  },
  {
   "cell_type": "code",
   "execution_count": null,
   "metadata": {
    "collapsed": true
   },
   "outputs": [],
   "source": [
    "tpm_gene %>%\n",
    "    group_by(hugo_symbol) %>%\n",
    "    summarize(mean_tpm = mean(tpm, na.rm=T)) %>%\n",
    "    arrange(desc(mean_tpm)) %>%\n",
    "    head(20) %>%\n",
    "    mutate(rank = 1:20) %>%\n",
    "    select(rank, hugo_symbol)"
   ]
  },
  {
   "cell_type": "markdown",
   "metadata": {},
   "source": [
    "We expect mitochondrial genes like MT-CO1, glycolytic enzymes like GAPDH, elongation factors like EEF1A1, and ribosomal proteins like RPS\\* and RPL\\* to be among the highest expressed."
   ]
  },
  {
   "cell_type": "markdown",
   "metadata": {},
   "source": [
    "## Overall characterization\n",
    "\n",
    "The transcripts per million (TPM) metric represents the number of transcripts expected to code for a specific gene, given one million randomly selected transcripts. In other words, TPM is normalized for gene length, sample-specific sequencing depth, and distribution of transcript lengths within a sample, and should have approximately even distribution across samples.\n",
    "\n",
    "Below, we plot log-transformed tpm across all samples, and color-coded by treatment. "
   ]
  },
  {
   "cell_type": "code",
   "execution_count": null,
   "metadata": {
    "collapsed": true
   },
   "outputs": [],
   "source": [
    "options(repr.plot.width=6, repr.plot.height=3)\n",
    "\n",
    "# Overall expression boxplots per condition\n",
    "ggplot(tpm_gene, aes(x=Name, color=Treatment, y=log10(tpm + 1))) +\n",
    "    geom_violin() + geom_boxplot(outlier.size=NA, fill=NA) +\n",
    "    theme(axis.text.x = element_text(angle = 90, hjust = 1))"
   ]
  },
  {
   "cell_type": "code",
   "execution_count": null,
   "metadata": {
    "collapsed": true
   },
   "outputs": [],
   "source": [
    "options(repr.plot.width=6, repr.plot.height=5)\n",
    "\n",
    "p <- counts_mat %>% \n",
    "    as.data.frame %>%\n",
    "    gather('Name', 'counts') %>%\n",
    "    ggplot\n",
    "p + geom_density(aes(x=counts, color=Name)) + scale_x_log10()"
   ]
  },
  {
   "cell_type": "markdown",
   "metadata": {},
   "source": [
    "## Hierarchical clustering\n",
    "Using the gene-level TPM data, we create a log-transformed expression matrix and cluster the samples."
   ]
  },
  {
   "cell_type": "code",
   "execution_count": null,
   "metadata": {
    "collapsed": true
   },
   "outputs": [],
   "source": [
    "options(repr.plot.width=8, repr.plot.height=6)\n",
    "\n",
    "# Swap the IDs with meaningful labels\n",
    "cluster_mat <- tpm_gene %>%\n",
    "    mutate(log10_tpm = log10(tpm + 1)) %>%\n",
    "    select(hugo_symbol, Name, log10_tpm) %>%\n",
    "    spread(Name, log10_tpm) %>%\n",
    "    ungroup %>%\n",
    "    select(-hugo_symbol) %>%\n",
    "    as.matrix\n",
    "colnames(cluster_mat) <- meta[colnames(cluster_mat), 'Description']\n",
    "cluster_mat[is.na(cluster_mat)] <- 0\n",
    "\n",
    "# Take a look at the matrix\n",
    "cluster_mat[1:5, 1:5]\n",
    "summary(cluster_mat[,1:4])"
   ]
  },
  {
   "cell_type": "code",
   "execution_count": null,
   "metadata": {
    "collapsed": true
   },
   "outputs": [],
   "source": [
    "# Hierarchical clustering\n",
    "plot(hclust(dist(t(cluster_mat), method='euclidean')), xlab=NA, sub=NA)"
   ]
  },
  {
   "cell_type": "markdown",
   "metadata": {},
   "source": [
    "## Plot across transcript length"
   ]
  },
  {
   "cell_type": "code",
   "execution_count": null,
   "metadata": {
    "collapsed": true
   },
   "outputs": [],
   "source": [
    "cov = read.csv('data/gene_coverage.csv') %>%\n",
    "    select(percentile, coverage, Name=sample_id) %>%\n",
    "    inner_join(meta, by='Name')\n",
    "\n",
    "p <- ggplot(cov, aes(x=percentile, y=log10(coverage), group=Name, color=Treatment))\n",
    "p + geom_line(aes(linetype=Concentration))\n"
   ]
  },
  {
   "cell_type": "code",
   "execution_count": null,
   "metadata": {
    "collapsed": true
   },
   "outputs": [],
   "source": []
  }
 ],
 "metadata": {
  "anaconda-cloud": {},
  "kernelspec": {
   "display_name": "R",
   "language": "R",
   "name": "ir"
  },
  "language_info": {
   "codemirror_mode": "r",
   "file_extension": ".r",
   "mimetype": "text/x-r-source",
   "name": "R",
   "pygments_lexer": "r",
   "version": "3.4.2"
  }
 },
 "nbformat": 4,
 "nbformat_minor": 1
}
