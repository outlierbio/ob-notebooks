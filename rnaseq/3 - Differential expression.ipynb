{
 "cells": [
  {
   "cell_type": "markdown",
   "metadata": {},
   "source": [
    "## Differential expression with EdgeR\n",
    "\n",
    "Here we use the EdgeR package to calculate differential expression for a number of group contrasts. We use a generalized linear model (GLM) to fit each transcript across all conditions, allowing us to leverage dispersion data for the entire dataset, rather than narrowing each individual pair.\n",
    "\n",
    "### Set up environment\n",
    "Load libraries, metadata, expression counts, and transcript annotations."
   ]
  },
  {
   "cell_type": "code",
   "execution_count": null,
   "metadata": {
    "collapsed": true
   },
   "outputs": [],
   "source": [
    "suppressPackageStartupMessages(require(dplyr))\n",
    "suppressPackageStartupMessages(require(ggplot2))\n",
    "suppressPackageStartupMessages(require(edgeR))\n",
    "suppressPackageStartupMessages(require(DESeq2))\n",
    "suppressPackageStartupMessages(require(EDASeq))"
   ]
  },
  {
   "cell_type": "code",
   "execution_count": null,
   "metadata": {
    "scrolled": false
   },
   "outputs": [],
   "source": [
    "source('src/load_datasets.r')\n",
    "head(meta, 10)"
   ]
  },
  {
   "cell_type": "markdown",
   "metadata": {},
   "source": [
    "Sum counts over gene symbols, as in part 1 & 2"
   ]
  },
  {
   "cell_type": "code",
   "execution_count": null,
   "metadata": {},
   "outputs": [],
   "source": [
    "tpm_gene <- tpm_tall %>%\n",
    "    inner_join(annot, by=c('target_id'='gencode_tx')) %>%\n",
    "    group_by(hugo_symbol, Name) %>%\n",
    "    summarize(tpm = sum(tpm, na.rm=T)) %>%\n",
    "    inner_join(meta)\n",
    "\n",
    "# Stack matrix to tall table\n",
    "counts_tall <- counts_mat %>%\n",
    "    as.data.frame %>%\n",
    "    mutate(gencode_tx = rownames(counts_mat)) %>%\n",
    "    gather(Name, counts, starts_with('GS-'))\n",
    "\n",
    "# Summarize by gene\n",
    "gene_counts_tall <- counts_tall %>%\n",
    "    inner_join(annot, by='gencode_tx') %>%\n",
    "    group_by(hugo_symbol, Name) %>%\n",
    "    summarize(counts = sum(counts))\n",
    "\n",
    "# Pivot back to matrix\n",
    "gene_counts <- gene_counts_tall %>%\n",
    "    spread(Name, counts)\n",
    "rownames(gene_counts) <- gene_counts$hugo_symbol\n",
    "gene_counts$hugo_symbol <- NULL\n",
    "gene_counts <- as.matrix(gene_counts)\n",
    "gene_counts <- gene_counts[, meta$Name]\n",
    "\n",
    "head(tpm_gene)\n",
    "gene_counts[1:3,1:3]"
   ]
  },
  {
   "cell_type": "markdown",
   "metadata": {},
   "source": [
    "### Filter gene list\n",
    "Force at least N samples to have more than 5 reads in order for a transcript to be used. This ensures no group of 3 is all zeros for the differential expression"
   ]
  },
  {
   "cell_type": "code",
   "execution_count": null,
   "metadata": {
    "collapsed": true
   },
   "outputs": [],
   "source": [
    "filter_genes <- function(expr, n_reads=5, n_samples=2) {\n",
    "    filter <- apply(expr, 1, function(x) length(x[x > n_reads]) >= n_samples)\n",
    "    return(expr[filter,])\n",
    "}\n",
    "                    \n",
    "N <- ncol(gene_counts) - 1\n",
    "                    \n",
    "filtered <- filter_genes(gene_counts, n_samples=N) # filter prevents zeros in one group\n",
    "set_filtered <- EDASeq::newSeqExpressionSet(as.matrix(filtered), phenoData=meta)"
   ]
  },
  {
   "cell_type": "markdown",
   "metadata": {},
   "source": [
    "### Design comparison matrix and contrasts\n",
    "We predefine a list of contrasts, using columns of a design matrix."
   ]
  },
  {
   "cell_type": "code",
   "execution_count": null,
   "metadata": {},
   "outputs": [],
   "source": [
    "design <- model.matrix(~0 + Description, data=meta)\n",
    "rownames(design) <- meta$Name\n",
    "head(design, 3)"
   ]
  },
  {
   "cell_type": "code",
   "execution_count": null,
   "metadata": {
    "collapsed": true
   },
   "outputs": [],
   "source": [
    "contrasts <- list(\n",
    "    contrast_1 = c(-1, 1, 0), # group 2 vs group 1\n",
    "    contrast_2 = c(-1, 0, 1) # group 3 vs group 1\n",
    ")"
   ]
  },
  {
   "cell_type": "markdown",
   "metadata": {},
   "source": [
    "### Differential expression plots and top hits"
   ]
  },
  {
   "cell_type": "code",
   "execution_count": null,
   "metadata": {
    "collapsed": true
   },
   "outputs": [],
   "source": [
    "calc_edger <- function(eset, design) {\n",
    "    y <- DGEList(counts=counts(eset)[,rownames(design)])\n",
    "    y <- calcNormFactors(y, method=\"upperquartile\")\n",
    "    y <- estimateGLMCommonDisp(y, design)\n",
    "    y <- estimateGLMTagwiseDisp(y, design)\n",
    "    fit <- glmFit(y, design)\n",
    "    return(fit)\n",
    "}\n",
    "\n",
    "get_contrast_hits <- function(fit, contrast, n) {\n",
    "    lrt <- glmLRT(fit, contrast=contrast)\n",
    "    top <- topTags(lrt, n=n)$table\n",
    "    top$hugo_symbol <- as.character(rownames(top))\n",
    "    return(top)\n",
    "}\n",
    "\n",
    "plot_contrast <- function(top, label) {\n",
    "    options(repr.plot.width=8, repr.plot.height=3)\n",
    "    \n",
    "    p <- ggplot(top, aes(x=logCPM, y=logFC)) +\n",
    "        geom_point(aes(color=(FDR < 0.05 & abs(logFC) > 1)), alpha=0.1, size=2) + geom_smooth(span=.2, se=FALSE) +\n",
    "        scale_color_manual(values = c(`TRUE`='red', `FALSE`='black')) +\n",
    "        ggtitle(label)\n",
    "    print(p)\n",
    "    \n",
    "    p <- ggplot(top, aes(x=logFC, y=-log10(FDR), size=logCPM, color=FDR < 0.05)) + \n",
    "        geom_point(alpha=0.1) +\n",
    "        scale_color_manual(values = c(`TRUE`='red', `FALSE`='black')) +\n",
    "        ggtitle(label)\n",
    "    print(p)\n",
    "    \n",
    "}\n"
   ]
  },
  {
   "cell_type": "code",
   "execution_count": null,
   "metadata": {
    "collapsed": true
   },
   "outputs": [],
   "source": [
    "fit <- calc_edger(set_filtered, design)"
   ]
  },
  {
   "cell_type": "markdown",
   "metadata": {},
   "source": [
    "### Build GSEA preranked datasets\n",
    "GSEA works best with fold-change ranked data from the entire list of genes. We collapse based on gene symbol, using the greatest absolute fold change across transcripts."
   ]
  },
  {
   "cell_type": "code",
   "execution_count": null,
   "metadata": {
    "collapsed": true
   },
   "outputs": [],
   "source": [
    "# Write fold change data to file\n",
    "for (label in names(contrasts)) {\n",
    "    top <- get_contrast_hits(fit, contrasts[[label]], nrow(set_filtered))\n",
    "    top %>%\n",
    "        select(hugo_symbol, logFC) %>%\n",
    "        arrange(desc(logFC)) %>%\n",
    "        write.table(file=paste0('results/', label, '_diff_genes_fc_summarized.rnk'), \n",
    "                                row.names=F, col.names=F, quote=F, sep='\\t')\n",
    "}"
   ]
  },
  {
   "cell_type": "markdown",
   "metadata": {},
   "source": [
    "## Plot global differential expression"
   ]
  },
  {
   "cell_type": "code",
   "execution_count": null,
   "metadata": {},
   "outputs": [],
   "source": [
    "# Plot volcano and MA plots for all contrasts\n",
    "for (label in names(contrasts)) {\n",
    "    top <- get_contrast_hits(fit, contrasts[[label]], nrow(set_filtered))\n",
    "    plot_contrast(top, label)\n",
    "}"
   ]
  },
  {
   "cell_type": "markdown",
   "metadata": {},
   "source": [
    "## Show top 20 genes from each comparison"
   ]
  },
  {
   "cell_type": "code",
   "execution_count": null,
   "metadata": {
    "scrolled": false
   },
   "outputs": [],
   "source": [
    "# Print top hits for all contrasts\n",
    "for (label in names(contrasts)) {\n",
    "    top <- get_contrast_hits(fit, contrasts[[label]], nrow(set_filtered))\n",
    "    \n",
    "    # Get all logFC and FDR q-values\n",
    "    degs <- top %>% \n",
    "        select(hugo_symbol, logFC, logCPM, FDR)\n",
    "    \n",
    "    # Print top 20 to notebook\n",
    "    cat('Top 20 genes for', label, ':\\n')\n",
    "    print(degs %>% select(-hugo_symbol) %>% head(20))\n",
    "    cat('\\n')\n",
    "    \n",
    "    # write to file\n",
    "    write.csv(degs, file=paste0('results/', label, '_gene_hits.csv'), quote=F, row.names=F)\n",
    "}"
   ]
  },
  {
   "cell_type": "markdown",
   "metadata": {
    "collapsed": true
   },
   "source": [
    "## Individual gene plots\n",
    "Below are plots of top differentially expressed genes or various genes of interest, across all treatment conditions"
   ]
  },
  {
   "cell_type": "code",
   "execution_count": null,
   "metadata": {
    "collapsed": true
   },
   "outputs": [],
   "source": [
    "plot_gene <- function(symbol) {\n",
    "    options(repr.plot.width=6, repr.plot.height=2)\n",
    "    \n",
    "    plot_data <- tpm_gene %>%\n",
    "        filter(hugo_symbol == symbol)\n",
    "    \n",
    "    p <- ggplot(plot_data, aes(x=Timepoint, y=log2(tpm + 1), color=Concentration))\n",
    "    p + geom_jitter(position=position_jitter(width=0.2, height=0)) + \n",
    "        facet_wrap(~Treatment) +\n",
    "        ggtitle(symbol)\n",
    "}"
   ]
  },
  {
   "cell_type": "markdown",
   "metadata": {},
   "source": [
    "## Heatmap of gene set expression across all conditions\n",
    "We use the `pheatmap` library to plot annotated expression heatmaps across conditions"
   ]
  },
  {
   "cell_type": "code",
   "execution_count": null,
   "metadata": {
    "collapsed": true
   },
   "outputs": [],
   "source": [
    "library(pheatmap)"
   ]
  },
  {
   "cell_type": "markdown",
   "metadata": {},
   "source": [
    "Read in list of genes from gene sets of interest"
   ]
  },
  {
   "cell_type": "code",
   "execution_count": null,
   "metadata": {
    "collapsed": true
   },
   "outputs": [],
   "source": [
    "fpath = 'data/gene_list.csv'\n",
    "\n",
    "tgt_genes <- read.csv(fpath, header=F, stringsAsFactors=F)$V1\n",
    "tgt_genes[1:5]\n",
    "head(tpm_gene)"
   ]
  },
  {
   "cell_type": "markdown",
   "metadata": {},
   "source": [
    "Set up metadata and expression matrix for heatmap"
   ]
  },
  {
   "cell_type": "code",
   "execution_count": null,
   "metadata": {
    "collapsed": true,
    "scrolled": false
   },
   "outputs": [],
   "source": [
    "meta_sorted <- meta %>%\n",
    "    arrange(Treatment, Concentration, Timepoint, Replicate)\n",
    "\n",
    "pathway_mat <- tpm_gene %>%\n",
    "    filter(hugo_symbol %in% tgt_genes) %>%\n",
    "    mutate(log2_tpm = log2(tpm + 1)) %>%\n",
    "    select(hugo_symbol, Name, log2_tpm) %>%\n",
    "    spread(Name, log2_tpm) %>%\n",
    "    ungroup\n",
    "rnames <- pathway_mat$hugo_symbol\n",
    "pathway_mat <- pathway_mat %>%\n",
    "    select(starts_with('GS-')) %>%\n",
    "    as.matrix\n",
    "rownames(pathway_mat) <- rnames\n",
    "pathway_mat <- pathway_mat[, meta_sorted$Name] # rearrange\n",
    "colnames(pathway_mat) <- meta_sorted$Description # re-label\n",
    "\n",
    "head(meta_sorted)\n",
    "pathway_mat[1:5, 1:5]\n",
    "cat('Dimension of pathway gene matrix:\\n')\n",
    "dim(pathway_mat)"
   ]
  },
  {
   "cell_type": "code",
   "execution_count": null,
   "metadata": {
    "collapsed": true
   },
   "outputs": [],
   "source": [
    "scaled_mat <- t(scale(t(pathway_mat)))\n",
    "na_rows <- apply(scaled_mat, 1, function(row) any(is.na(row)))\n",
    "scaled_mat <- scaled_mat[!na_rows,]\n",
    "\n",
    "scaled_mat[1:5, 1:5]\n",
    "cat('Dimension after removing NA rows:\\n')\n",
    "dim(scaled_mat)"
   ]
  },
  {
   "cell_type": "code",
   "execution_count": null,
   "metadata": {
    "collapsed": true
   },
   "outputs": [],
   "source": [
    "options(repr.plot.width=8, repr.plot.height=6)\n",
    "pheatmap(scaled_mat, show_rownames=F, cluster_cols=F)"
   ]
  }
 ],
 "metadata": {
  "anaconda-cloud": {},
  "kernelspec": {
   "display_name": "R",
   "language": "R",
   "name": "ir"
  },
  "language_info": {
   "codemirror_mode": "r",
   "file_extension": ".r",
   "mimetype": "text/x-r-source",
   "name": "R",
   "pygments_lexer": "r",
   "version": "3.4.2"
  }
 },
 "nbformat": 4,
 "nbformat_minor": 1
}
